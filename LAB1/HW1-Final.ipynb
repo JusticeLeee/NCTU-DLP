{
 "cells": [
  {
   "cell_type": "code",
   "execution_count": 1,
   "id": "instrumental-failure",
   "metadata": {},
   "outputs": [],
   "source": [
    "import numpy as np\n",
    "import matplotlib.pyplot as plt\n",
    "\n",
    "# %config Completer.use_jedi = False\n"
   ]
  },
  {
   "cell_type": "code",
   "execution_count": 2,
   "id": "seventh-grain",
   "metadata": {},
   "outputs": [],
   "source": [
    "def generate_linear(n=100):\n",
    "    import numpy as np\n",
    "    pts = np.random.uniform(0, 1, (n, 2)) # 從(0,1)中透過uniform分配取出n個2維的點\n",
    "    inputs = []\n",
    "    labels = []\n",
    "    for pt in pts:\n",
    "        inputs.append([pt[0], pt[1]])\n",
    "        distance = (pt[0]-pt[1])/1.414\n",
    "        if pt[0] > pt[1] :\n",
    "            labels.append(0)\n",
    "        else:\n",
    "            labels.append(1)\n",
    "    return np.array(inputs), np.array(labels).reshape(n, 1) # reshape完後變成row=100,clo=1的陣列\n",
    "\n",
    "def generate_XOR_easy():\n",
    "    import numpy as np\n",
    "    inputs = []\n",
    "    labels = []    \n",
    "\n",
    "    for i in range(11):\n",
    "        inputs.append([0.1*i, 0.1*i])\n",
    "        labels.append(0)\n",
    "\n",
    "        if 0.1*i==0.5 :\n",
    "            continue\n",
    "        inputs.append([0.1*i, 1-0.1*i])\n",
    "        labels.append(1)\n",
    "    return np.array(inputs), np.array(labels).reshape(21,1)\n",
    "\n",
    "def show_result(x,y,pred_y):\n",
    "    import  matplotlib.pyplot as plt\n",
    "    plt.subplot(1,2,1)\n",
    "    plt.title('ground truth', fontsize=18)\n",
    "    for i in range(x.shape[0]):\n",
    "        if y[i] == 0:\n",
    "            plt.plot(x[i][0], x[i][1], 'ro')\n",
    "        else:\n",
    "            plt.plot(x[i][0], x[i][1], 'bo')\n",
    "    plt.subplot(1,2,2)\n",
    "    plt.title('Predict result', fontsize=18)\n",
    "    for i in range(x.shape[0]):\n",
    "        if pred_y[i] ==0:\n",
    "            plt.plot(x[i][0], x[i][1], 'ro')\n",
    "        else:\n",
    "            plt.plot(x[i][0], x[i][1], 'bo')\n",
    "    plt.show()\n",
    "\n",
    "def sigmoid(x):\n",
    "    return 1.0 / (1.0+np.exp(-x))\n",
    "\n",
    "def derivative_sigmoid(x):\n",
    "    return np.multiply(x, 1.0-x)"
   ]
  },
  {
   "cell_type": "code",
   "execution_count": 3,
   "id": "reflected-conclusion",
   "metadata": {},
   "outputs": [],
   "source": [
    "# Assume both hidden layer's width is 4\n",
    "\n",
    "# x,y_ =generate_linear(n=100)\n",
    "x,y_ =generate_XOR_easy()\n",
    "\n",
    "class Model():\n",
    "    def __init__(self, dims):\n",
    "        self.weight = [\n",
    "            np.random.uniform(size=(dims[i], dims[i+1]))\n",
    "            for i in range(len(dims) - 1)]\n"
   ]
  },
  {
   "cell_type": "code",
   "execution_count": 4,
   "id": "abandoned-investigation",
   "metadata": {},
   "outputs": [],
   "source": [
    "m = Model([2,4,4,1])"
   ]
  },
  {
   "cell_type": "code",
   "execution_count": 5,
   "id": "light-honduras",
   "metadata": {},
   "outputs": [
    {
     "name": "stdout",
     "output_type": "stream",
     "text": [
      "epcoh = 0  loss = [ 0.35795259]  Acuuracy =  0.47619047619047616\n",
      "epcoh = 500  loss = [ 0.25492418]  Acuuracy =  0.5238095238095238\n",
      "epcoh = 1000  loss = [ 0.25245131]  Acuuracy =  0.5238095238095238\n",
      "epcoh = 1500  loss = [ 0.25018263]  Acuuracy =  0.5238095238095238\n",
      "epcoh = 2000  loss = [ 0.23913384]  Acuuracy =  0.23809523809523808\n",
      "epcoh = 2500  loss = [ 0.13865925]  Acuuracy =  0.7619047619047619\n",
      "epcoh = 3000  loss = [ 0.03068938]  Acuuracy =  1.0\n",
      "epcoh = 3500  loss = [ 0.0051056]  Acuuracy =  1.0\n",
      "epcoh = 4000  loss = [ 0.0018616]  Acuuracy =  1.0\n",
      "epcoh = 4500  loss = [ 0.00102025]  Acuuracy =  1.0\n",
      "epcoh = 5000  loss = [ 0.00067138]  Acuuracy =  1.0\n",
      "epcoh = 5500  loss = [ 0.00048847]  Acuuracy =  1.0\n",
      "epcoh = 6000  loss = [ 0.00037839]  Acuuracy =  1.0\n",
      "epcoh = 6500  loss = [ 0.00030589]  Acuuracy =  1.0\n",
      "epcoh = 7000  loss = [ 0.00025501]  Acuuracy =  1.0\n",
      "epcoh = 7500  loss = [ 0.00021758]  Acuuracy =  1.0\n",
      "epcoh = 8000  loss = [ 0.00018904]  Acuuracy =  1.0\n",
      "epcoh = 8500  loss = [ 0.00016663]  Acuuracy =  1.0\n",
      "epcoh = 9000  loss = [ 0.00014863]  Acuuracy =  1.0\n",
      "epcoh = 9500  loss = [ 0.00013388]  Acuuracy =  1.0\n"
     ]
    }
   ],
   "source": [
    "y1 = np.zeros([y_.size,4])\n",
    "z1 = np.zeros([y_.size,4])\n",
    "y2 = np.zeros([y_.size,4])\n",
    "z2 = np.zeros([y_.size,4])\n",
    "y3 = np.zeros([y_.size,1])\n",
    "y  = np.zeros([y_.size,1])\n",
    "pred_y = np.zeros([y_.size,1])\n",
    "        \n",
    "\n",
    "lr = 0.1\n",
    "itr = 10000\n",
    "loss= np.zeros([itr,1])\n",
    "\n",
    "\n",
    "for epoch in range (itr):\n",
    "    \n",
    "    for i in range (y.size):\n",
    "\n",
    "        # forward propagation\n",
    "        y1[i] = x[i]  @ m.weight[0]\n",
    "        z1[i] = sigmoid(y1[i])\n",
    "        y2[i] = z1[i] @ m.weight[1]\n",
    "        z2[i] = sigmoid(y2[i])\n",
    "        y3[i] = z2[i] @ m.weight[2]\n",
    "        y[i]  = sigmoid(y3[i])\n",
    "        loss[epoch] = np.square(np.subtract(y, y_)).mean()\n",
    "        # backward propagation\n",
    "        dldy3  = 2*(y[i]-y_[i])  *derivative_sigmoid(y[i])\n",
    "        dldw3  = z2[i] * dldy3\n",
    "\n",
    "        dldy2  = (m.weight[2].T * dldy3) * derivative_sigmoid(z2[i])\n",
    "        dldw2  = z1[i].reshape(4,1) @ dldy2\n",
    "\n",
    "        dldy1  = (dldy2 @ m.weight[1].T) * derivative_sigmoid(z1[i])\n",
    "        dldw1  = x[i].T.reshape(2,1) @ dldy1\n",
    "\n",
    "        #update the weight\n",
    "        m.weight[2] -= lr*dldw3.reshape(4,1)\n",
    "        m.weight[1] -= lr*dldw2\n",
    "        m.weight[0] -= lr*dldw1\n",
    "    if(epoch%500==0):\n",
    "        for i in range (y_.size):\n",
    "            if(y[i]>0.5):pred_y[i] = 1\n",
    "            else:pred_y[i]=0\n",
    "        count = 0\n",
    "        for i in range (y_.size):\n",
    "            if(y_[i]==pred_y[i]):count+=1 \n",
    "        print(\"epcoh =\",epoch,\" loss =\" , loss[epoch],\" Acuuracy = \",count / y_.size)"
   ]
  },
  {
   "cell_type": "code",
   "execution_count": 8,
   "id": "vocational-screen",
   "metadata": {},
   "outputs": [
    {
     "data": {
      "image/png": "[encoded data removed]",
      "text/plain": [
       "<matplotlib.figure.Figure at 0x7f4e5dca6278>"
      ]
     },
     "metadata": {
      "needs_background": "light"
     },
     "output_type": "display_data"
    },
    {
     "name": "stdout",
     "output_type": "stream",
     "text": [
      "Acuuracy =  1.0\n"
     ]
    }
   ],
   "source": [
    "# plot the graph and accurracy\n",
    "show_result(x,y_,pred_y.reshape(y_.size))\n",
    "\n",
    "print(\"Acuuracy = \" , count / y_.size)"
   ]
  }
 ],
 "metadata": {
  "kernelspec": {
   "display_name": "Python 3",
   "language": "python",
   "name": "python3"
  },
  "language_info": {
   "codemirror_mode": {
    "name": "ipython",
    "version": 3
   },
   "file_extension": ".py",
   "mimetype": "text/x-python",
   "name": "python",
   "nbconvert_exporter": "python",
   "pygments_lexer": "ipython3",
   "version": "3.6.9"
  }
 },
 "nbformat": 4,
 "nbformat_minor": 5
}
