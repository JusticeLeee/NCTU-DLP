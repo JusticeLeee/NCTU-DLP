{
 "cells": [
  {
   "cell_type": "code",
   "execution_count": 26,
   "id": "western-understanding",
   "metadata": {},
   "outputs": [
    {
     "name": "stdout",
     "output_type": "stream",
     "text": [
      "testing score: 0.76\n",
      "new_testing score: 0.60\n",
      "---------------------------------------------\n"
     ]
    }
   ],
   "source": [
    "from dataset import ICLEVRLoader\n",
    "from model import Discriminator, Generator\n",
    "from evaluator import evaluation_model\n",
    "from torch.utils.data import DataLoader\n",
    "from torchvision.utils import make_grid, save_image\n",
    "import pathlib\n",
    "import torch\n",
    "import torch.nn as nn\n",
    "import numpy as np\n",
    "import copy\n",
    "import os \n",
    "\n",
    "if __name__=='__main__':\n",
    "   \n",
    "    #create dir\n",
    "    if not os.path.exists(\"./eval_graph\"):\n",
    "        os.makedirs(\"./eval_graph\")\n",
    "        \n",
    "    # setting parameters\n",
    "    device=torch.device('cuda' if torch.cuda.is_available() else 'cpu')\n",
    "    z_dim=100\n",
    "    c_dim=200\n",
    "    image_shape=(64,64,3)\n",
    "\n",
    "    # create generate & discriminator\n",
    "    generator=Generator(z_dim,c_dim).to(device)\n",
    "    path = 'ckpt/epoch128_score0.76.pt'\n",
    "    generator.load_state_dict(torch.load(path))    \n",
    "\n",
    "    evaluation_model=evaluation_model()\n",
    "    root_folder=pathlib.Path().absolute()\n",
    "    test_labels = ICLEVRLoader(root_folder,mode=\"test\")\n",
    "    test_conditions = np.zeros((len(test_labels),24))\n",
    "    for i in range(len(test_labels)):\n",
    "        test_conditions[i] = test_labels[i]\n",
    "    test_conditions = torch.from_numpy(test_conditions).float().to(device)\n",
    "    \n",
    "    new_test_labels = ICLEVRLoader(root_folder,mode=\"new_test\")\n",
    "    new_test_conditions = np.zeros((len(new_test_labels),24))\n",
    "    for i in range(len(new_test_labels)):\n",
    "        new_test_conditions[i] = new_test_labels[i]\n",
    "    new_test_conditions = torch.from_numpy(new_test_conditions).float().to(device)\n",
    "    fixed_z = torch.randn((len(test_labels), z_dim)).to(device)\n",
    "    best_score = 0\n",
    "\n",
    "    # evaluate\n",
    "    generator.eval()\n",
    "\n",
    "    with torch.no_grad():\n",
    "        test_imgs=generator(fixed_z,test_conditions)\n",
    "        new_test_imgs=generator(fixed_z,new_test_conditions)\n",
    "    test_score=evaluation_model.eval(test_imgs,test_conditions)\n",
    "    new_test_score=evaluation_model.eval(new_test_imgs,new_test_conditions)\n",
    "    \n",
    "    save_image(test_imgs, os.path.join('eval_graph', f'test.png'), nrow=8, normalize=True)\n",
    "    save_image(new_test_imgs, os.path.join('eval_graph', f'new_test.png'), nrow=8, normalize=True)\n",
    "\n",
    "    print(f'testing score: {test_score:.2f}')\n",
    "    print(f'new_testing score: {new_test_score:.2f}')\n",
    "    print('---------------------------------------------')\n",
    "        "
   ]
  }
 ],
 "metadata": {
  "kernelspec": {
   "display_name": "pytorch",
   "language": "python",
   "name": "pytorch"
  },
  "language_info": {
   "codemirror_mode": {
    "name": "ipython",
    "version": 3
   },
   "file_extension": ".py",
   "mimetype": "text/x-python",
   "name": "python",
   "nbconvert_exporter": "python",
   "pygments_lexer": "ipython3",
   "version": "3.9.4"
  }
 },
 "nbformat": 4,
 "nbformat_minor": 5
}
